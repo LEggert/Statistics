{
 "cells": [
  {
   "cell_type": "code",
   "execution_count": null,
   "metadata": {
    "collapsed": true
   },
   "outputs": [],
   "source": [
    "#-----------------------------------------------------------------------------#"
   ]
  },
  {
   "cell_type": "markdown",
   "metadata": {},
   "source": [
    "# System setup"
   ]
  },
  {
   "cell_type": "code",
   "execution_count": 1,
   "metadata": {
    "collapsed": true
   },
   "outputs": [],
   "source": [
    "import pyodbc\n",
    "import sys\n",
    "\n",
    "import pandas as pd\n",
    "import numpy  as np\n",
    "import matplotlib.pyplot as plt"
   ]
  },
  {
   "cell_type": "markdown",
   "metadata": {},
   "source": [
    "# Prospective power analysis"
   ]
  },
  {
   "cell_type": "code",
   "execution_count": 3,
   "metadata": {
    "collapsed": true
   },
   "outputs": [],
   "source": [
    "def progress_bar(value, endvalue, bar_length=20):\n",
    "        percent = float(value) / endvalue\n",
    "        arrow = '-' * int(round(percent * bar_length)-1) + '>'\n",
    "        spaces = ' ' * (bar_length - len(arrow))\n",
    "        sys.stdout.write(\"\\rProgress: [{0}] {1}%\".format(arrow + spaces, int(round(percent * 100))))\n",
    "        sys.stdout.flush()"
   ]
  },
  {
   "cell_type": "code",
   "execution_count": 4,
   "metadata": {
    "collapsed": true
   },
   "outputs": [],
   "source": [
    "# Create necessary data frames.\n",
    "nachfrage_ist_df  = vkb_df.kaufsumme.copy()\n",
    "nachfrage_soll_df = vkb_df.kaufsumme.copy()\n",
    "nachfrage_soll_df.loc[nachfrage_soll_df > 0] = nachfrage_ist_df - nachfrage_ist_df.mean() + 25.7"
   ]
  },
  {
   "cell_type": "code",
   "execution_count": 42,
   "metadata": {
    "collapsed": true
   },
   "outputs": [],
   "source": [
    "def bootstrap_replicate(nachfrage_ist_df, nachfrage_soll_df, n):\n",
    "    \"\"\"Generate bootstrap replicate.\"\"\"\n",
    "\n",
    "    # Sample Nachfrage IST.\n",
    "    bs_nachfrage_ist = np.random.choice(nachfrage_ist_df, size=n)\n",
    "    \n",
    "    # Sample Nachfrage SOLL.\n",
    "    bs_nachfrage_soll = np.random.choice(nachfrage_soll_df, size=n)\n",
    "    \n",
    "    # Sample Einlösequote IST.\n",
    "    e_quote_ist_df  = np.random.binomial(n=1, p=0.31, size=n)\n",
    "    \n",
    "    # Sample Einlösequote SOLL.\n",
    "    e_quote_soll_df = np.random.binomial(n=1, p=0.90, size=n)\n",
    "     \n",
    "    # Comute Kosten IST.\n",
    "    kosten_ist = sum(bs_nachfrage_ist  > 0) * e_quote_ist_df.mean()  * 4.85 # 5.99 abzüglich 19% MWST\n",
    "    \n",
    "    # Compute Kosten SOLL.\n",
    "    kosten_soll = sum(bs_nachfrage_soll > 0) * e_quote_soll_df.mean() * 4.85\n",
    "    \n",
    "    # Compute bootstrap replicate, here, Kosten-Nachfrage-Relation.\n",
    "    return (kosten_soll - kosten_ist) /  (bs_nachfrage_soll.sum() - bs_nachfrage_ist.sum())"
   ]
  },
  {
   "cell_type": "code",
   "execution_count": 57,
   "metadata": {},
   "outputs": [
    {
     "name": "stdout",
     "output_type": "stream",
     "text": [
      "N:1160705\n",
      "\n",
      "Cycle 0 of 1\n",
      "Progress: [------------------->] 100%\n",
      "Estimated power: 1.0\n"
     ]
    }
   ],
   "source": [
    "traffic_per_day = int(len(nachfrage_ist_df)/7)\n",
    "n = traffic_per_day*7 # starting point for sample size\n",
    "power_reps = 1\n",
    "bs_reps = 1000\n",
    "target_fulfilled = []\n",
    "estimated_power = 0.0\n",
    "\n",
    "while estimated_power < 0.80:\n",
    "    print(\"N:\" + str(n))\n",
    "    data_ist      = nachfrage_ist_df[:n]\n",
    "    data_soll     = nachfrage_ist_df[:n]\n",
    "    bs_replicates = np.empty(bs_reps)\n",
    "    \n",
    "    # Estimate power.\n",
    "    for i in range(power_reps):\n",
    "        print()\n",
    "        print(\"Cycle \" + str(i) + \" of \" + str(reps_power))\n",
    "        \n",
    "        # Estimate distribution of sample statistic.\n",
    "        for j in range(bs_reps):\n",
    "            progress_bar(j, bs_reps)\n",
    "            bs_replicate = bootstrap_replicate(nachfrage_ist_df, nachfrage_soll_df, n)\n",
    "            bs_replicates[j] = bs_replicate\n",
    "        target_fulfilled.append(np.percentile(bs_replicates, [2.5, 97.5])[1] < 0.168)  \n",
    "    estimated_power =sum(target_fulfilled)/len(target_fulfilled)\n",
    "    print()\n",
    "    print(\"Estimated power: \" + str(estimated_power))\n",
    "    if estimated_power < 0.80: n = n + traffic_per_day"
   ]
  },
  {
   "cell_type": "code",
   "execution_count": 58,
   "metadata": {},
   "outputs": [
    {
     "data": {
      "text/plain": [
       "[True]"
      ]
     },
     "execution_count": 58,
     "metadata": {},
     "output_type": "execute_result"
    }
   ],
   "source": [
    "target_fulfilled"
   ]
  },
  {
   "cell_type": "code",
   "execution_count": 59,
   "metadata": {},
   "outputs": [
    {
     "data": {
      "text/plain": [
       "array([ 0.13325051,  0.16683594])"
      ]
     },
     "execution_count": 59,
     "metadata": {},
     "output_type": "execute_result"
    }
   ],
   "source": [
    "np.percentile(bs_replicates, [2.5, 97.5])"
   ]
  },
  {
   "cell_type": "code",
   "execution_count": 60,
   "metadata": {},
   "outputs": [
    {
     "data": {
      "image/png": "[encoded data removed]",
      "text/plain": [
       "<matplotlib.figure.Figure at 0x2a53a913f28>"
      ]
     },
     "metadata": {},
     "output_type": "display_data"
    }
   ],
   "source": [
    "_ = plt.hist(bs_replicates, bins=30, normed=True)\n",
    "plt.show()"
   ]
  }
 ],
 "metadata": {
  "kernelspec": {
   "display_name": "Python 3",
   "language": "python",
   "name": "python3"
  },
  "language_info": {
   "codemirror_mode": {
    "name": "ipython",
    "version": 3
   },
   "file_extension": ".py",
   "mimetype": "text/x-python",
   "name": "python",
   "nbconvert_exporter": "python",
   "pygments_lexer": "ipython3",
   "version": "3.6.1"
  }
 },
 "nbformat": 4,
 "nbformat_minor": 2
}
