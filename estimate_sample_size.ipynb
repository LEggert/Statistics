{
 "cells": [
  {
   "cell_type": "markdown",
   "metadata": {},
   "source": [
    "## Estimate Sample Sizes"
   ]
  },
  {
   "cell_type": "code",
   "execution_count": 1,
   "metadata": {
    "collapsed": true
   },
   "outputs": [],
   "source": [
    "import numpy       as np\n",
    "import scipy.stats as stats\n",
    "import numpy       as np\n",
    "import pandas      as pd"
   ]
  },
  {
   "cell_type": "markdown",
   "metadata": {},
   "source": [
    "## Analytic Solution"
   ]
  },
  {
   "cell_type": "code",
   "execution_count": 2,
   "metadata": {
    "collapsed": true
   },
   "outputs": [],
   "source": [
    "def estimate (p_1, p_2, start):\n",
    "    n = start\n",
    "    p_value = 1\n",
    "    while p_value > 0.05:\n",
    "        prop_C = p_1 * n\n",
    "        prop_T = p_2 * n\n",
    "        arr = np.array([[prop_C, n - prop_C], [prop_T, n - prop_T]])\n",
    "        chi2, p_value, dof, exp = stats.chi2_contingency(arr, correction=False)\n",
    "        n = n + 1000\n",
    "    return n, p_value"
   ]
  },
  {
   "cell_type": "code",
   "execution_count": 3,
   "metadata": {},
   "outputs": [
    {
     "data": {
      "text/plain": [
       "(24000, 0.045596841526980715)"
      ]
     },
     "execution_count": 3,
     "metadata": {},
     "output_type": "execute_result"
    }
   ],
   "source": [
    "estimate(0.4619, 0.4712, 5000)"
   ]
  },
  {
   "cell_type": "markdown",
   "metadata": {
    "collapsed": true
   },
   "source": [
    "## Numeric Solution"
   ]
  },
  {
   "cell_type": "code",
   "execution_count": 4,
   "metadata": {
    "collapsed": true
   },
   "outputs": [],
   "source": [
    "def simulate_test (p_1, p_2, N):\n",
    "    prop_C =np.random.binomial(N, p_1)\n",
    "    prop_T =np.random.binomial(N, p_2)  \n",
    "    arr = np.array([[prop_C, N - prop_C], [prop_T, N - prop_T]])\n",
    "    chi2, p_value, dof, exp = stats.chi2_contingency(arr, correction=False)\n",
    "    return p_value"
   ]
  },
  {
   "cell_type": "code",
   "execution_count": 5,
   "metadata": {
    "collapsed": true
   },
   "outputs": [],
   "source": [
    "def approximate (p_1, p_2, start):\n",
    "    res  = pd.DataFrame()\n",
    "    temp = 0.0\n",
    "    n    = start\n",
    "    while temp < 0.80:\n",
    "        res['values'] = [simulate_test(p_1, p_2, n) < 0.05 for _ in range(20000)]\n",
    "        temp = res.values.sum()/res.size\n",
    "        n = n + 1000   \n",
    "    return n"
   ]
  },
  {
   "cell_type": "code",
   "execution_count": 6,
   "metadata": {},
   "outputs": [
    {
     "data": {
      "text/plain": [
       "46000"
      ]
     },
     "execution_count": 6,
     "metadata": {},
     "output_type": "execute_result"
    }
   ],
   "source": [
    "approximate(0.4619, 0.4712, 30000)"
   ]
  }
 ],
 "metadata": {
  "kernelspec": {
   "display_name": "Python 3",
   "language": "python",
   "name": "python3"
  },
  "language_info": {
   "codemirror_mode": {
    "name": "ipython",
    "version": 3
   },
   "file_extension": ".py",
   "mimetype": "text/x-python",
   "name": "python",
   "nbconvert_exporter": "python",
   "pygments_lexer": "ipython3",
   "version": "3.6.1"
  }
 },
 "nbformat": 4,
 "nbformat_minor": 2
}
